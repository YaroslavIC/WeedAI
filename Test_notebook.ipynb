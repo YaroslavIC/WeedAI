{
 "cells": [
  {
   "cell_type": "code",
   "execution_count": 77,
   "metadata": {},
   "outputs": [
    {
     "name": "stdout",
     "output_type": "stream",
     "text": [
      "900 600\n",
      "[[[911.5278   608.4601  ]]\n",
      "\n",
      " [[271.72382  567.1791  ]]\n",
      "\n",
      " [[267.63092  196.87051 ]]\n",
      "\n",
      " [[897.81866  114.113106]]]\n",
      "-------------\n",
      "[[ 900.  600.]\n",
      " [1800.  600.]\n",
      " [1800. 1200.]\n",
      " [ 900. 1200.]]\n"
     ]
    },
    {
     "data": {
      "text/plain": [
       "True"
      ]
     },
     "execution_count": 77,
     "metadata": {},
     "output_type": "execute_result"
    }
   ],
   "source": [
    "# текущая рабочая версия  калибровки и корректировки перспективы\n",
    "#  https://docs.opencv.org/3.1.0/dc/dbb/tutorial_py_calibration.html\n",
    "\n",
    "import numpy as np\n",
    "import cv2\n",
    "import glob\n",
    "\n",
    "# termination criteria\n",
    "criteria = (cv2.TERM_CRITERIA_EPS + cv2.TERM_CRITERIA_MAX_ITER, 30, 0.001)\n",
    " \n",
    "# prepare object points, like (0,0,0), (1,0,0), (2,0,0) ....,(6,5,0)\n",
    "objp = np.zeros((9*6,3), np.float32)\n",
    "objp[:,:2] = np.mgrid[0:9,0:6].T.reshape(-1,2)\n",
    " \n",
    "# Arrays to store object points and image points from all the images.\n",
    "objpoints = [] # 3d point in real world space\n",
    "imgpoints = [] # 2d points in image plane.\n",
    "chessboard_size = (9, 6) \n",
    "\n",
    "images = glob.glob('C:\\\\Users\\\\HeroPC\\\\git\\\\Python\\\\WeedAI\\\\chessboard\\\\chessboard_8.png')\n",
    "\n",
    "for fname in images:\n",
    "    img = cv2.imread(fname)\n",
    "    gray = cv2.cvtColor(img,cv2.COLOR_BGR2GRAY)\n",
    "\n",
    "    # Find the chess board corners\n",
    "    ret, corners = cv2.findChessboardCorners(gray, (9,6),None)\n",
    "  \n",
    "    # If found, add object points, image points (after refining them)\n",
    "    if ret == True:\n",
    "        objpoints.append(objp)\n",
    "\n",
    "        cv2.cornerSubPix(gray,corners,(11,11),(-1,-1),criteria)\n",
    "        imgpoints.append(corners)\n",
    "\n",
    "        src_points = np.float32([corners[0], corners[chessboard_size[0] - 1],\n",
    "                            corners[-1], corners[-chessboard_size[0]]])\n",
    "        width =  900 #int(np.linalg.norm(src_points[1] - src_points[0]))\n",
    "        height =  600 #int(np.linalg.norm(src_points[2] - src_points[1]))\n",
    "        #dst_points = np.float32([[0, 0], [width, 0], [width, height], [0, height]])\n",
    "        dst_points = np.float32([[width, height], [2*width, height], [2*width, 2*height], [width, 2*height]])\n",
    "\n",
    "        print(width,height)\n",
    "\n",
    "        M = cv2.getPerspectiveTransform(src_points, dst_points)\n",
    "   \n",
    "      \n",
    "\n",
    "        # Draw and display the corners\n",
    "        cv2.drawChessboardCorners(img, (9,6), corners,ret)\n",
    "        cv2.imshow('img',img)\n",
    "        cv2.imwrite('C:\\\\Users\\\\HeroPC\\\\git\\\\Python\\\\WeedAI\\\\chessboard\\\\c0.png',img)\n",
    "        cv2.waitKey(500)\n",
    "\n",
    "cv2.destroyAllWindows()\n",
    "\n",
    "print(src_points)\n",
    "print(\"-------------\")\n",
    "print(dst_points)\n",
    "\n",
    "ret, mtx, dist, rvecs, tvecs = cv2.calibrateCamera(objpoints, imgpoints, gray.shape[::-1],None,None)\n",
    "\n",
    "img = cv2.imread('C:\\\\Users\\\\HeroPC\\\\git\\\\Python\\\\WeedAI\\\\chessboard\\\\chessboard_3.png')\n",
    "h,  w = img.shape[:2]\n",
    "newcameramtx, roi=cv2.getOptimalNewCameraMatrix(mtx,dist,(w,h),01,(w,h))\n",
    "\n",
    "# undistort\n",
    "dst = cv2.undistort(img, mtx, dist, None, newcameramtx)\n",
    "cv2.imwrite('C:\\\\Users\\\\HeroPC\\\\git\\\\Python\\\\WeedAI\\\\chessboard\\\\00.png',dst)\n",
    "\n",
    "dst2=cv2.warpPerspective(dst,M,(2*1280,2*720),cv2.INTER_LINEAR, borderMode=cv2.BORDER_CONSTANT, borderValue=(0,0,0))\n",
    "cv2.imwrite('C:\\\\Users\\\\HeroPC\\\\git\\\\Python\\\\WeedAI\\\\chessboard\\\\01.png',dst2)\n",
    " "
   ]
  },
  {
   "cell_type": "code",
   "execution_count": 69,
   "metadata": {},
   "outputs": [
    {
     "data": {
      "text/plain": [
       "True"
      ]
     },
     "execution_count": 69,
     "metadata": {},
     "output_type": "execute_result"
    }
   ],
   "source": [
    "\n",
    "\n",
    "img = cv2.imread('C:\\\\Users\\\\HeroPC\\\\git\\\\Python\\\\WeedAI\\\\chessboard\\\\chessboard_8.png')\n",
    "h,  w = img.shape[:2]\n",
    "newcameramtx, roi=cv2.getOptimalNewCameraMatrix(mtx,dist,(w,h),0,(w,h))\n",
    "\n",
    "# undistort\n",
    "dst = cv2.undistort(img, mtx, dist, None, newcameramtx)\n",
    "cv2.imwrite('C:\\\\Users\\\\HeroPC\\\\git\\\\Python\\\\WeedAI\\\\chessboard\\\\00.png',dst)\n",
    "\n",
    "dst2=cv2.warpPerspective(dst,M,(2*1280,2*720),cv2.INTER_LINEAR, borderMode=cv2.BORDER_CONSTANT, borderValue=(0,0,0))\n",
    "cv2.imwrite('C:\\\\Users\\\\HeroPC\\\\git\\\\Python\\\\WeedAI\\\\chessboard\\\\01.png',dst2)\n",
    "  \n",
    "\n"
   ]
  },
  {
   "cell_type": "code",
   "execution_count": 53,
   "metadata": {},
   "outputs": [
    {
     "name": "stdout",
     "output_type": "stream",
     "text": [
      "[[[911.5278   608.4601  ]]\n",
      "\n",
      " [[271.72382  567.1791  ]]\n",
      "\n",
      " [[267.63092  196.87051 ]]\n",
      "\n",
      " [[897.81866  114.113106]]]\n"
     ]
    }
   ],
   "source": [
    "print(src_points)"
   ]
  },
  {
   "cell_type": "code",
   "execution_count": null,
   "metadata": {},
   "outputs": [],
   "source": []
  }
 ],
 "metadata": {
  "kernelspec": {
   "display_name": "Python 3",
   "language": "python",
   "name": "python3"
  },
  "language_info": {
   "codemirror_mode": {
    "name": "ipython",
    "version": 3
   },
   "file_extension": ".py",
   "mimetype": "text/x-python",
   "name": "python",
   "nbconvert_exporter": "python",
   "pygments_lexer": "ipython3",
   "version": "3.11.9"
  }
 },
 "nbformat": 4,
 "nbformat_minor": 2
}
